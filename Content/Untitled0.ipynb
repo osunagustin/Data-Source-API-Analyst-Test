{
  "nbformat": 4,
  "nbformat_minor": 0,
  "metadata": {
    "colab": {
      "provenance": []
    },
    "kernelspec": {
      "name": "python3",
      "display_name": "Python 3"
    },
    "language_info": {
      "name": "python"
    }
  },
  "cells": [
    {
      "cell_type": "code",
      "execution_count": 2,
      "metadata": {
        "id": "wyw9K7CJ7zuT"
      },
      "outputs": [],
      "source": [
        "import requests\n",
        "import base64\n",
        "\n",
        "# Token de acceso personal de GitHub\n",
        "GITHUB_TOKEN = \"ghp_tu_token_aquí\"\n",
        "\n",
        "headers = {\n",
        "    \"Authorization\": f\"Bearer {GITHUB_TOKEN}\",\n",
        "    \"Accept\": \"application/vnd.github.v3+json\"\n",
        "}\n"
      ]
    },
    {
      "cell_type": "code",
      "source": [
        "def search_repositories(query=\"data science\", per_page=5):\n",
        "    url = f\"https://api.github.com/search/repositories?q={query}&per_page={per_page}\"\n",
        "    res = requests.get(url, headers=headers)\n",
        "    data = res.json()\n",
        "    for repo in data.get(\"items\", []):\n",
        "        print(f\"{repo['full_name']} - ⭐ {repo['stargazers_count']}\")\n",
        "search_repositories()\n"
      ],
      "metadata": {
        "colab": {
          "base_uri": "https://localhost:8080/"
        },
        "id": "U7snGVVJ7-vb",
        "outputId": "9d2fe94d-d49e-41a5-ca51-1b5690379d78"
      },
      "execution_count": 3,
      "outputs": [
        {
          "output_type": "stream",
          "name": "stdout",
          "text": [
            "jakevdp/PythonDataScienceHandbook - ⭐ 44723\n",
            "ossu/data-science - ⭐ 19870\n",
            "donnemartin/data-science-ipython-notebooks - ⭐ 28271\n",
            "microsoft/Data-Science-For-Beginners - ⭐ 29745\n",
            "fengdu78/Data-Science-Notes - ⭐ 8397\n"
          ]
        }
      ]
    },
    {
      "cell_type": "code",
      "source": [
        "def get_commits(owner, repo, per_page=5):\n",
        "    url = f\"https://api.github.com/repos/{owner}/{repo}/commits?per_page={per_page}\"\n",
        "    res = requests.get(url, headers=headers)\n",
        "    for commit in res.json():\n",
        "        print(f\"{commit['commit']['author']['name']} - {commit['commit']['message'][:60]}\")\n",
        "get_commits(\"scikit-learn\", \"scikit-learn\")\n"
      ],
      "metadata": {
        "colab": {
          "base_uri": "https://localhost:8080/"
        },
        "id": "FO_kLysD8FVt",
        "outputId": "98800ad4-3f86-4bf8-d250-f0c358dc71cd"
      },
      "execution_count": 4,
      "outputs": [
        {
          "output_type": "stream",
          "name": "stdout",
          "text": [
            "Lucy Liu - MNT Move `entropy` to private function (#31294)\n",
            "\n",
            "Co-authored\n",
            "ayoub.agouzoul - TST use global_random_seed in sklearn/feature_extraction/tes\n",
            "Reshama Shaikh - DOC Update About Us page (#31519)\n",
            "Christian Veenhuis - MAINT: remove unused local vars in mixture._gaussian_mixture\n",
            "Fabrizio Damicelli - ENH Improve error message in `check_requires_y_none` (#31481\n"
          ]
        }
      ]
    },
    {
      "cell_type": "code",
      "source": [
        "def get_readme(owner, repo):\n",
        "    url = f\"https://api.github.com/repos/{owner}/{repo}/contents/README.md\"\n",
        "    res = requests.get(url, headers=headers)\n",
        "    if res.status_code == 200:\n",
        "        content = base64.b64decode(res.json()[\"content\"]).decode(\"utf-8\")\n",
        "        print(content[:500])\n",
        "    else:\n",
        "        print(\"README not found\")\n",
        "get_readme(\"scikit-learn\", \"scikit-learn\")\n"
      ],
      "metadata": {
        "colab": {
          "base_uri": "https://localhost:8080/"
        },
        "id": "sFkW0C7v8JhW",
        "outputId": "07870d0c-b23e-4c5b-a60a-c01056d9956f"
      },
      "execution_count": 5,
      "outputs": [
        {
          "output_type": "stream",
          "name": "stdout",
          "text": [
            "README not found\n"
          ]
        }
      ]
    },
    {
      "cell_type": "code",
      "source": [
        "def paginated_search(query=\"data\", pages=2):\n",
        "    results = []\n",
        "    for page in range(1, pages + 1):\n",
        "        url = f\"https://api.github.com/search/repositories?q={query}&per_page=5&page={page}\"\n",
        "        res = requests.get(url, headers=headers)\n",
        "        results.extend(res.json().get(\"items\", []))\n",
        "    print(f\"Total repos encontrados: {len(results)}\")\n",
        "paginated_search(\"machine learning\", 2)\n"
      ],
      "metadata": {
        "colab": {
          "base_uri": "https://localhost:8080/"
        },
        "id": "vr4f787Z8MVh",
        "outputId": "51610d04-a786-47ff-e0fa-f643b0fca025"
      },
      "execution_count": 6,
      "outputs": [
        {
          "output_type": "stream",
          "name": "stdout",
          "text": [
            "Total repos encontrados: 10\n"
          ]
        }
      ]
    },
    {
      "cell_type": "code",
      "source": [
        "def check_rate_limit():\n",
        "    url = \"https://api.github.com/rate_limit\"\n",
        "    res = requests.get(url, headers=headers)\n",
        "    limits = res.json()['rate']\n",
        "    print(f\"Limit: {limits['limit']} - Remaining: {limits['remaining']}\")\n",
        "check_rate_limit()\n"
      ],
      "metadata": {
        "colab": {
          "base_uri": "https://localhost:8080/"
        },
        "id": "7lXcsoEI8Rcz",
        "outputId": "94482df9-c477-46bd-87b1-cbea9cc41c35"
      },
      "execution_count": 7,
      "outputs": [
        {
          "output_type": "stream",
          "name": "stdout",
          "text": [
            "Limit: 60 - Remaining: 58\n"
          ]
        }
      ]
    }
  ]
}